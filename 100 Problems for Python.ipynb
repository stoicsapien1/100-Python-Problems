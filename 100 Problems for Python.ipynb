{
 "cells": [
  {
   "cell_type": "markdown",
   "metadata": {},
   "source": [
    "## 100 Python Problems For Practice"
   ]
  },
  {
   "cell_type": "markdown",
   "metadata": {},
   "source": [
    "User will input (3ages).Find the oldest one"
   ]
  },
  {
   "cell_type": "code",
   "execution_count": 2,
   "metadata": {},
   "outputs": [
    {
     "name": "stdout",
     "output_type": "stream",
     "text": [
      "age 3 is the oldest\n"
     ]
    }
   ],
   "source": [
    "age1=input(\"Age 1\")\n",
    "age2=input(\"Age 2\")\n",
    "age3=input(\"Age 3\")\n",
    "if age1>age2 and age1>age3:\n",
    "    print(\"age 1 is oldest\")\n",
    "elif age2>age1 and age2>age3:\n",
    "    print(\"age 2 is oldest\")\n",
    "elif age3>age1 and age3>age2:\n",
    "    print(\"age 3 is the oldest\")\n",
    "elif age1==age2 and age2==age3:\n",
    "    print(\"all have same age\")\n"
   ]
  },
  {
   "cell_type": "markdown",
   "metadata": {},
   "source": [
    "Write a program that will convert celsius value to fahrenheit"
   ]
  },
  {
   "cell_type": "code",
   "execution_count": null,
   "metadata": {},
   "outputs": [],
   "source": []
  }
 ],
 "metadata": {
  "kernelspec": {
   "display_name": "Python 3",
   "language": "python",
   "name": "python3"
  },
  "language_info": {
   "codemirror_mode": {
    "name": "ipython",
    "version": 3
   },
   "file_extension": ".py",
   "mimetype": "text/x-python",
   "name": "python",
   "nbconvert_exporter": "python",
   "pygments_lexer": "ipython3",
   "version": "3.10.0"
  }
 },
 "nbformat": 4,
 "nbformat_minor": 2
}
